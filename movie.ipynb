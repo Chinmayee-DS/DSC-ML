{
  "nbformat": 4,
  "nbformat_minor": 0,
  "metadata": {
    "colab": {
      "name": "Untitled0.ipynb",
      "provenance": [],
      "collapsed_sections": [],
      "authorship_tag": "ABX9TyOFWdFLN5pvvSsVZNvA5Nag",
      "include_colab_link": true
    },
    "kernelspec": {
      "name": "python3",
      "display_name": "Python 3"
    }
  },
  "cells": [
    {
      "cell_type": "markdown",
      "metadata": {
        "id": "view-in-github",
        "colab_type": "text"
      },
      "source": [
        "<a href=\"https://colab.research.google.com/github/Chinmayee-DS/DSC-ML-assignments/blob/master/movie.ipynb\" target=\"_parent\"><img src=\"https://colab.research.google.com/assets/colab-badge.svg\" alt=\"Open In Colab\"/></a>"
      ]
    },
    {
      "cell_type": "code",
      "metadata": {
        "id": "otkq1mxai26p",
        "colab_type": "code",
        "colab": {
          "base_uri": "https://localhost:8080/",
          "height": 51
        },
        "outputId": "13c34243-4cd0-4dd6-c054-4c540bea3c6c"
      },
      "source": [
        "thr = [\"Dark\", \"Mind Hunter\", \"Parasite\", \"Inception\", \"Insidious\", \"Prison Break\", \"Money Heist\", \"War\", \"Jack Ryan\"]\n",
        "com = [\"Friends\", \"3 Idiots\", \"Brooklyn 99\", \"How I Met Your Mother\", \"Rick And Morty\", \"The Big Bang Theory\", \"The Office\", \"Space Force\"]\n",
        "mov = input()\n",
        "mov = mov.lower()\n",
        "thr = map(str.lower, thr)\n",
        "com = map(str.lower, com)\n",
        " \n",
        " \n",
        "if mov in thr:\n",
        "     print(\"Thriller\")\n",
        "elif mov in com:\n",
        "     print(\"Comedy\")\n",
        "else:\n",
        "     print(\"Neither comedy nor thriller\")"
      ],
      "execution_count": 12,
      "outputs": [
        {
          "output_type": "stream",
          "text": [
            "Mind hunter\n",
            "Thriller\n"
          ],
          "name": "stdout"
        }
      ]
    }
  ]
}