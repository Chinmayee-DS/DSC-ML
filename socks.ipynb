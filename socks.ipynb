{
  "nbformat": 4,
  "nbformat_minor": 0,
  "metadata": {
    "colab": {
      "name": "Untitled2.ipynb",
      "provenance": [],
      "authorship_tag": "ABX9TyMc+8ViRnfSMt1YqNs80GFW",
      "include_colab_link": true
    },
    "kernelspec": {
      "name": "python3",
      "display_name": "Python 3"
    }
  },
  "cells": [
    {
      "cell_type": "markdown",
      "metadata": {
        "id": "view-in-github",
        "colab_type": "text"
      },
      "source": [
        "<a href=\"https://colab.research.google.com/github/Chinmayee-DS/DSC-ML-assignments/blob/master/socks.ipynb\" target=\"_parent\"><img src=\"https://colab.research.google.com/assets/colab-badge.svg\" alt=\"Open In Colab\"/></a>"
      ]
    },
    {
      "cell_type": "code",
      "metadata": {
        "id": "_otUGg9C5Vdm",
        "colab_type": "code",
        "colab": {
          "base_uri": "https://localhost:8080/",
          "height": 68
        },
        "outputId": "ef866932-3157-43f0-919b-268c70102ea8"
      },
      "source": [
        "n = int(input())\n",
        "so = list(map(int, input().split()))\n",
        "so.sort()\n",
        "i = p = 0\n",
        "while(len(so) != 0):\n",
        "     c = so.count(so[i])\n",
        "     num = c // 2\n",
        "     p = p + num\n",
        "     for x in range(c):\n",
        "          so.pop(0)\n",
        "print(p)"
      ],
      "execution_count": 13,
      "outputs": [
        {
          "output_type": "stream",
          "text": [
            "1\n",
            "2\n",
            "0\n"
          ],
          "name": "stdout"
        }
      ]
    }
  ]
}